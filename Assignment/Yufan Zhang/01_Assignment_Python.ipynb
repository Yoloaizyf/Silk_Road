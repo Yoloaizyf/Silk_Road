{
  "cells": [
    {
      "cell_type": "markdown",
      "source": [
        "# Assignment 01\n",
        "##### Python Basics I\n",
        "\n",
        "This tutorial was written by Terry Ruas (University of Göttingen). The references for external contributors for which this material was anyhow adapted/inspired are in the Acknowledgments section (end of the document).\n"
      ],
      "metadata": {
        "collapsed": false,
        "id": "LZgQdr4W6iKz"
      }
    },
    {
      "cell_type": "markdown",
      "source": [
        "## Task 01 – Hello World!\n",
        "Write a simple program that asks the user to input a name and outputs a simple greeting, such as ‘Hi Name! Nice to meet you!’ and in the other line, ‘Welcome to the Programing Course!’. \n",
        "\n",
        "*Hint: Check out the input () and print() function in Python.* "
      ],
      "metadata": {
        "collapsed": false,
        "id": "4GPUv_8U6iK1"
      }
    },
    {
      "cell_type": "code",
      "execution_count": null,
      "outputs": [
        {
          "output_type": "stream",
          "name": "stdout",
          "text": [
            "Please enter your name: GG\n",
            "Hi GG! Nice to meet you!\n",
            "Welcome to the Programing Course!\n"
          ]
        }
      ],
      "source": [
        "name = input(\"Please enter your name: \")\n",
        "print(\"Hi %s! Nice to meet you!\" % name)\n",
        "print(\"Welcome to the Programing Course!\")"
      ],
      "metadata": {
        "id": "xt3XV0YD6iK2",
        "colab": {
          "base_uri": "https://localhost:8080/"
        },
        "outputId": "08b83fdf-5b67-4860-d4b0-0b8e3177f8a5"
      }
    },
    {
      "cell_type": "markdown",
      "source": [
        "## Task 02 – Reversed Words\n",
        "Write a program that reads in a word provided by the user and prints the word in a reversed order. For example, if the input is hello, the output should be ‘olleh’. \n",
        "\n",
        "- Use a loop structure \n",
        "- Use just array indexes \n"
      ],
      "metadata": {
        "collapsed": false,
        "id": "_Jz4T4AQ6iK3"
      }
    },
    {
      "cell_type": "code",
      "execution_count": null,
      "outputs": [
        {
          "output_type": "stream",
          "name": "stdout",
          "text": [
            "Please enter a word: hello\n",
            "olleh\n"
          ]
        }
      ],
      "source": [
        "word = input(\"Please enter a word: \")\n",
        "word_ls = []\n",
        "for i in word:\n",
        "  word_ls.append(i)\n",
        "word_ls.reverse()\n",
        "print(\"\".join(word_ls))"
      ],
      "metadata": {
        "id": "aKLGcZ0_6iK3",
        "colab": {
          "base_uri": "https://localhost:8080/"
        },
        "outputId": "dbd56d18-cb61-440e-b6b9-902a5d82f6b8"
      }
    },
    {
      "cell_type": "markdown",
      "source": [
        "## Task 03 –  Fibonacci Numbers\n",
        "Write a program that reads in an upper bound (number) provided by the user and prints the sequence of Fibonacci numbers that are less or equal to the number given by the user. Use a while-loop for this task. \n",
        "\n",
        "The Fibonacci sequence is defined as \n",
        "$ F_{n}=F_{n−1}+F_{n−2}$. Use $F_{0}=0$ and $F_{1} = 1$ as seed values.  \n",
        "\n",
        "For example, if the user inputs 6, the output should be 0, 1, 1, 2, 3, 5. \n",
        "\n",
        "\n",
        "\n"
      ],
      "metadata": {
        "collapsed": false,
        "id": "PalhJ9x36iK4"
      }
    },
    {
      "cell_type": "code",
      "execution_count": null,
      "outputs": [
        {
          "output_type": "stream",
          "name": "stdout",
          "text": [
            "Please enter a number as upper bound: 6\n",
            "[0, 1, 1, 2, 3, 5]\n"
          ]
        }
      ],
      "source": [
        "upper = int(input(\"Please enter a number as upper bound: \"))\n",
        "a=0\n",
        "b=1\n",
        "list = [a,b]\n",
        "tmp=a+b\n",
        "while tmp < upper:\n",
        "    list.append(tmp)\n",
        "    a=b\n",
        "    b=tmp\n",
        "    tmp=a+b\n",
        "print(list)"
      ],
      "metadata": {
        "id": "vm5UlcKB6iK4",
        "colab": {
          "base_uri": "https://localhost:8080/"
        },
        "outputId": "adf1fec6-23c2-4d67-f489-35edf9a46949"
      }
    },
    {
      "cell_type": "markdown",
      "source": [
        "## Task 04 – Selective Printing \n",
        "\n",
        "Write a program that reads in an upper bound (number) provided by the user and prints all integer numbers that are less or equal to the upper bound except the integer numbers that are divisible by 3. Use the continue statement. For example, if the user enters 6 as the upper bound, the output should be 0, 1, 2, 4, 5.  "
      ],
      "metadata": {
        "collapsed": false,
        "id": "JV1Mm9qA6iK5"
      }
    },
    {
      "cell_type": "code",
      "execution_count": null,
      "outputs": [
        {
          "output_type": "stream",
          "name": "stdout",
          "text": [
            "Please enter a number as upper bound: 6\n",
            "[0, 1, 2, 4, 5]\n"
          ]
        }
      ],
      "source": [
        "number = int(input(\"Please enter a number as upper bound: \"))\n",
        "list = [0]\n",
        "for i in range(number):\n",
        "    if i%3==0:\n",
        "        continue\n",
        "    else:\n",
        "        list.append(i)\n",
        "print(list)"
      ],
      "metadata": {
        "id": "C3i7ctus6iK6",
        "colab": {
          "base_uri": "https://localhost:8080/"
        },
        "outputId": "204c246c-e94c-4385-e5a0-e0a3df1ef3d1"
      }
    },
    {
      "cell_type": "markdown",
      "source": [
        "## Task 05 – Triangle Checking   \n",
        "\n",
        "Write a Python program that asks the user to input the lengths of the sides in a triangle and outputs whether the triangle is equilateral, isosceles, or scalene. The program should also check for the Triangle inequality $(z < x + y)$,  and prompt the user for a valid input. \n",
        "\n",
        "- An equilateral triangle is a triangle in which all three sides are of equal length. \n",
        "- An isosceles triangle is a triangle with (at least) two sides of equal length. \n",
        "- A scalene triangle is a triangle in which all three sides have different lengths. \n",
        "\n",
        "For example, if the user inputs a=3, b=4, c=5, the triangle is scalene. \n"
      ],
      "metadata": {
        "collapsed": false,
        "id": "qz4P36Lz6iK6"
      }
    },
    {
      "cell_type": "code",
      "execution_count": null,
      "outputs": [
        {
          "output_type": "stream",
          "name": "stdout",
          "text": [
            "Please enter the length of the first side in the triangle: 3\n",
            "Please enter the length of the second side in the triangle: 4\n",
            "Please enter the length of the third side in the triangle: 5\n",
            "It is a valid triangle\n",
            "It is a scalene triangle.\n"
          ]
        }
      ],
      "source": [
        "a = int(input(\"Please enter the length of the first side in the triangle: \"))\n",
        "b = int(input(\"Please enter the length of the second side in the triangle: \"))\n",
        "c = int(input(\"Please enter the length of the third side in the triangle: \"))\n",
        "list = [a,b,c]\n",
        "if a<b+c and b<a+c and c<a+b:\n",
        "    print(\"It is a valid triangle\")\n",
        "    if len(list)-len(set(list)) == 0:\n",
        "        print(\"It is a scalene triangle.\")\n",
        "    elif len(list)-len(set(list)) == 1:\n",
        "        print(\"It is an isosceles triangle.\")\n",
        "    elif len(list)-len(set(list)) == 2:\n",
        "        print(\"It is an equilateral triangle.\")\n",
        "    else:\n",
        "        print(\"something went wrong\")\n",
        "else:\n",
        "    print(\"It is not a valid triangle\")"
      ],
      "metadata": {
        "id": "2c67p_Zc6iK7",
        "colab": {
          "base_uri": "https://localhost:8080/"
        },
        "outputId": "60c98c8b-560d-4cab-e41e-b1333a8ddf88"
      }
    },
    {
      "cell_type": "markdown",
      "source": [
        "## Task 06 – Decimal to Octal Conversion \n",
        "\n",
        "Write a program that reads a non-negative integer number in the decimal representation provided by the user and prints the octal representation of the number. For example, if the user enters 167, the output should be 247.  \n",
        "\n",
        "Write a more general program that reads in a non-negative number (potentially including decimal places) in the decimal representation provided by the user and prints the octal representation of the number. For example, if the user enters 25.11, the output should be 31.0702436560507534. "
      ],
      "metadata": {
        "collapsed": false,
        "id": "k1kh3odh6iK7"
      }
    },
    {
      "cell_type": "code",
      "execution_count": 2,
      "outputs": [
        {
          "output_type": "stream",
          "name": "stdout",
          "text": [
            "Please enter a decimal number: 25.11\n",
            "31.0702436560507534122\n"
          ]
        }
      ],
      "source": [
        "number = float(input(\"Please enter a decimal number: \"))\n",
        "\n",
        "head, tail = str(number).split(\".\")\n",
        "head = int(head)\n",
        "tail = float(tail)/100\n",
        "\n",
        "list = []\n",
        "while head > 0:\n",
        "    quotient = int(head/8)\n",
        "    remainder = head%8\n",
        "    head = quotient\n",
        "    list.append(remainder)\n",
        "\n",
        "list_dec = []\n",
        "while tail!=0:\n",
        "    integers = int(tail*8)\n",
        "    decimal = tail*8-integers\n",
        "    tail = decimal\n",
        "    list_dec.append(integers)\n",
        "    \n",
        "list.reverse()\n",
        "final = list + [\".\"] + list_dec\n",
        "print(\"\".join(str(i) for i in final))"
      ],
      "metadata": {
        "id": "2-UCbTRQ6iK7",
        "colab": {
          "base_uri": "https://localhost:8080/"
        },
        "outputId": "3c4d88de-968c-481a-b631-63e5acec7fc6"
      }
    },
    {
      "cell_type": "markdown",
      "source": [
        "## Acknowledgements\n",
        "\n",
        "Redmond, Hsu, Saini, Gupta, Ramsey, Kondrich, Capoor, Cohen, Borus, Kincaid, Malik, and many others. - Stanford CS41"
      ],
      "metadata": {
        "collapsed": false,
        "id": "Wl9JCEYM6iK-"
      }
    },
    {
      "cell_type": "code",
      "execution_count": null,
      "outputs": [],
      "source": [],
      "metadata": {
        "id": "Bx-WQj4v6iK-"
      }
    }
  ],
  "metadata": {
    "kernelspec": {
      "display_name": "Python 3",
      "language": "python",
      "name": "python3"
    },
    "language_info": {
      "codemirror_mode": {
        "name": "ipython",
        "version": 2
      },
      "file_extension": ".py",
      "mimetype": "text/x-python",
      "name": "python",
      "nbconvert_exporter": "python",
      "pygments_lexer": "ipython2",
      "version": "2.7.6"
    },
    "colab": {
      "provenance": [],
      "toc_visible": true
    }
  },
  "nbformat": 4,
  "nbformat_minor": 0
}